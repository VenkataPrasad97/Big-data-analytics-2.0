{
 "cells": [
  {
   "cell_type": "markdown",
   "metadata": {},
   "source": [
    "Q28. Write a code to get the desired output of the following\n",
    "\n",
    "string = \"Big Data iNeuron\"\n",
    "desired_output = \"iNeuron\""
   ]
  },
  {
   "cell_type": "code",
   "execution_count": 2,
   "metadata": {},
   "outputs": [
    {
     "name": "stdout",
     "output_type": "stream",
     "text": [
      "iNeuron\n"
     ]
    }
   ],
   "source": [
    "str=\"Big Data iNeuron\"\n",
    "out=str.split()\n",
    "print(out[2])"
   ]
  },
  {
   "cell_type": "markdown",
   "metadata": {},
   "source": [
    "Q29. Write a code to get the desired output of the following\n",
    "\n",
    "string = \"Big Data iNeuron\"\n",
    "desired_output = \"norueNi\"\n",
    "\n"
   ]
  },
  {
   "cell_type": "code",
   "execution_count": 5,
   "metadata": {},
   "outputs": [
    {
     "name": "stdout",
     "output_type": "stream",
     "text": [
      "norueNi\n"
     ]
    }
   ],
   "source": [
    "str=\"Big Data iNeuron\"\n",
    "split_in=str.split()\n",
    "out=split_in[2]\n",
    "out=out[::-1]\n",
    "print(out)"
   ]
  },
  {
   "cell_type": "markdown",
   "metadata": {},
   "source": [
    "Q33. How can you print the below string?\n",
    "\n",
    "'iNeuron's Big Data Course'"
   ]
  },
  {
   "cell_type": "code",
   "execution_count": 10,
   "metadata": {},
   "outputs": [
    {
     "name": "stdout",
     "output_type": "stream",
     "text": [
      "'iNeuron's Big Data Course'\n"
     ]
    }
   ],
   "source": [
    "print(\"'iNeuron's Big Data Course'\")"
   ]
  },
  {
   "cell_type": "markdown",
   "metadata": {},
   "source": [
    "Q37. Write a code to access the word \"iNeuron\" from the given list.\n",
    "lst = [1,2,3,\"Hi\",[45,54, \"iNeuron\"], \"Big Data\"]"
   ]
  },
  {
   "cell_type": "code",
   "execution_count": 21,
   "metadata": {},
   "outputs": [
    {
     "name": "stdout",
     "output_type": "stream",
     "text": [
      "iNeuron\n"
     ]
    }
   ],
   "source": [
    "lst = [1,2,3,\"Hi\",[45,54, \"iNeuron\"], \"Big Data\"]\n",
    "print(lst[4][2])"
   ]
  },
  {
   "cell_type": "markdown",
   "metadata": {},
   "source": [
    "Q38. Take a list as an input from the user and find the length of the list."
   ]
  },
  {
   "cell_type": "code",
   "execution_count": 22,
   "metadata": {},
   "outputs": [
    {
     "name": "stdout",
     "output_type": "stream",
     "text": [
      "5\n"
     ]
    }
   ],
   "source": [
    "a=input()\n",
    "print(len(a))"
   ]
  },
  {
   "cell_type": "markdown",
   "metadata": {},
   "source": [
    "Q39. Add the word \"Big\" in the 3rd index of the given list.\n",
    "lst = [\"Welcome\", \"to\", \"Data\", \"course\"]"
   ]
  },
  {
   "cell_type": "code",
   "execution_count": 23,
   "metadata": {},
   "outputs": [
    {
     "name": "stdout",
     "output_type": "stream",
     "text": [
      "['Welcome', 'to', 'Big', 'Data', 'course']\n"
     ]
    }
   ],
   "source": [
    "lst = [\"Welcome\", \"to\", \"Data\", \"course\"]\n",
    "lst.insert(2,\"Big\")\n",
    "print(lst)"
   ]
  },
  {
   "cell_type": "markdown",
   "metadata": {},
   "source": [
    "Q43. Can two tuple be appended. If yes, write a code for it. If not, why?"
   ]
  },
  {
   "cell_type": "code",
   "execution_count": 28,
   "metadata": {},
   "outputs": [
    {
     "name": "stdout",
     "output_type": "stream",
     "text": [
      "('a', 'b', 'c', 1, 2, 3)\n"
     ]
    }
   ],
   "source": [
    "a=('a','b','c')\n",
    "b=(1,2,3)\n",
    "print(a+b)"
   ]
  },
  {
   "cell_type": "markdown",
   "metadata": {},
   "source": [
    "Q44. Take a tuple as an input and print the count of elements in it."
   ]
  },
  {
   "cell_type": "code",
   "execution_count": 34,
   "metadata": {},
   "outputs": [
    {
     "data": {
      "text/plain": [
       "7"
      ]
     },
     "execution_count": 34,
     "metadata": {},
     "output_type": "execute_result"
    }
   ],
   "source": [
    "a=tuple(input().split())\n",
    "len(a)"
   ]
  },
  {
   "cell_type": "markdown",
   "metadata": {},
   "source": [
    "Q47. Create a set and add \"iNeuron\" in your set."
   ]
  },
  {
   "cell_type": "code",
   "execution_count": 1,
   "metadata": {},
   "outputs": [
    {
     "name": "stdout",
     "output_type": "stream",
     "text": [
      "{'from', \"I'm\", 2.0, 'doing', 'Course', 'Data', 'iNeuron', 'Big'}\n"
     ]
    }
   ],
   "source": [
    "a={\"I'm\",\"doing\",\"Big\",\"Data\",2.0,\"Course\",\"from\"}\n",
    "a.add(\"iNeuron\")\n",
    "print(a)"
   ]
  },
  {
   "cell_type": "markdown",
   "metadata": {},
   "source": [
    "Q48. Try to add multiple values using add() function."
   ]
  },
  {
   "cell_type": "code",
   "execution_count": 13,
   "metadata": {},
   "outputs": [
    {
     "name": "stdout",
     "output_type": "stream",
     "text": [
      "{\"I'm\", 2.0, 'doing', 'Data', 'iNeuron', 'Big', 'from', 'Course'}\n"
     ]
    }
   ],
   "source": [
    "a={\"I'm\"}\n",
    "a.add(\"doing\")\n",
    "b=[\"doing\",\"Big\",\"Data\",2.0,\"Course\",\"from\",\"iNeuron\"]\n",
    "for i in b:\n",
    "    a.add(i)\n",
    "print(a)\n",
    "#Note_I_put one duplicate value_ but it was removed in output. Sets only have distinct values."
   ]
  },
  {
   "cell_type": "code",
   "execution_count": 19,
   "metadata": {},
   "outputs": [
    {
     "name": "stdout",
     "output_type": "stream",
     "text": [
      "{\"I'm\", 'doing', 2.0, 'Data', 'iNeuron', 'Big', 'from', 'Course'}\n"
     ]
    }
   ],
   "source": [
    "a={\"I'm\"}\n",
    "b={\"doing\",\"Big\",\"Data\",2.0,\"Course\",\"from\",\"iNeuron\"}\n",
    "a.update(b)\n",
    "print(a)"
   ]
  },
  {
   "cell_type": "markdown",
   "metadata": {},
   "source": [
    "Q53. What is union() in sets? Explain via code."
   ]
  },
  {
   "cell_type": "code",
   "execution_count": 20,
   "metadata": {},
   "outputs": [
    {
     "name": "stdout",
     "output_type": "stream",
     "text": [
      "A U B = {2, 'a', 'd', 'c'}\n",
      "B U C = {1, 2, 3, 'd', 'c'}\n",
      "A U B U C = {1, 2, 3, 'a', 'd', 'c'}\n"
     ]
    }
   ],
   "source": [
    "A = {'a', 'c', 'd'}\n",
    "B = {'c', 'd', 2 }\n",
    "C = {1, 2, 3}\n",
    "\n",
    "print('A U B =', A.union(B))\n",
    "print('B U C =', B.union(C))\n",
    "print('A U B U C =', A.union(B, C))"
   ]
  },
  {
   "cell_type": "markdown",
   "metadata": {},
   "source": [
    "Q54. What is intersection() in sets? Explain via code"
   ]
  },
  {
   "cell_type": "code",
   "execution_count": 21,
   "metadata": {},
   "outputs": [
    {
     "name": "stdout",
     "output_type": "stream",
     "text": [
      "{2, 5}\n",
      "{2}\n",
      "{2, 3}\n",
      "{2}\n"
     ]
    }
   ],
   "source": [
    "A = {2, 3, 5, 4}\n",
    "B = {2, 5, 100}\n",
    "C = {2, 3, 8, 9, 10}\n",
    "\n",
    "print(B.intersection(A))\n",
    "print(B.intersection(C))\n",
    "print(A.intersection(C))\n",
    "print(C.intersection(A, B))"
   ]
  },
  {
   "cell_type": "markdown",
   "metadata": {},
   "source": [
    "Q58. What will the output of the following?\n",
    "var = {}\n",
    "print(type(var))"
   ]
  },
  {
   "cell_type": "code",
   "execution_count": 1,
   "metadata": {},
   "outputs": [
    {
     "name": "stdout",
     "output_type": "stream",
     "text": [
      "<class 'dict'>\n"
     ]
    }
   ],
   "source": [
    "var = {}\n",
    "print(type(var))"
   ]
  },
  {
   "cell_type": "markdown",
   "metadata": {},
   "source": [
    "Q59. How can we add an element in a dictionary?"
   ]
  },
  {
   "cell_type": "code",
   "execution_count": 11,
   "metadata": {},
   "outputs": [
    {
     "name": "stdout",
     "output_type": "stream",
     "text": [
      "{'a': '1', 'b': '2', 'c': '3', 'd': '4'}\n",
      "{'a': '1', 'b': '2', 'c': '3', 'd': '4'}\n"
     ]
    }
   ],
   "source": [
    "dic= {\n",
    "  \"a\": \"1\",\n",
    "  \"b\": \"2\",\n",
    "  \"c\": \"3\"\n",
    "}\n",
    "dic[\"d\"] = \"4\"\n",
    "print(dic)\n",
    "\n",
    "dic= {\n",
    "  \"a\": \"1\",\n",
    "  \"b\": \"2\",\n",
    "  \"c\": \"3\"\n",
    "}\n",
    "dic.update({\"d\":\"4\"})\n",
    "print(dic)"
   ]
  },
  {
   "cell_type": "code",
   "execution_count": 15,
   "metadata": {},
   "outputs": [
    {
     "name": "stdout",
     "output_type": "stream",
     "text": [
      "3\n",
      "dict_keys(['a', 'b', 'c', 'd'])\n",
      "dict_values(['1', '2', '3', '4'])\n",
      "dict_items([('a', '1'), ('b', '2'), ('c', '3'), ('d', '4')])\n"
     ]
    }
   ],
   "source": [
    "dic={'a': '1', 'b': '2', 'c': '3', 'd': '4'}\n",
    "x=dic.get(\"c\")\n",
    "print(x)\n",
    "x=dic.keys()\n",
    "print(x)\n",
    "x=dic.values()\n",
    "print(x)\n",
    "x=dic.items()\n",
    "print(x)"
   ]
  },
  {
   "cell_type": "markdown",
   "metadata": {},
   "source": [
    "Q61. Create a nested dictionary and access all the element in the inner dictionary.\n"
   ]
  },
  {
   "cell_type": "code",
   "execution_count": 22,
   "metadata": {},
   "outputs": [
    {
     "name": "stdout",
     "output_type": "stream",
     "text": [
      "dict_values([{'a': '1'}, {'b': '2'}, {'c': '3'}, {'d': '4'}])\n",
      "{'a': '1'}\n"
     ]
    },
    {
     "data": {
      "text/plain": [
       "('D', {'d': '4'})"
      ]
     },
     "execution_count": 22,
     "metadata": {},
     "output_type": "execute_result"
    }
   ],
   "source": [
    "dic={'A':{'a': '1'},'B':{'b': '2'},'C':{'c': '3'},'D':{'d': '4'}}\n",
    "x=dic.values()\n",
    "print(x)\n",
    "x=dic.get('A')\n",
    "print(x)\n",
    "dic.pop(\"A\")\n",
    "dic.popitem()"
   ]
  }
 ],
 "metadata": {
  "kernelspec": {
   "display_name": "Python 3.9.10 64-bit",
   "language": "python",
   "name": "python3"
  },
  "language_info": {
   "codemirror_mode": {
    "name": "ipython",
    "version": 3
   },
   "file_extension": ".py",
   "mimetype": "text/x-python",
   "name": "python",
   "nbconvert_exporter": "python",
   "pygments_lexer": "ipython3",
   "version": "3.9.10"
  },
  "orig_nbformat": 4,
  "vscode": {
   "interpreter": {
    "hash": "11938c6bc6919ae2720b4d5011047913343b08a43b18698fd82dedb0d4417594"
   }
  }
 },
 "nbformat": 4,
 "nbformat_minor": 2
}
