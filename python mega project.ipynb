{
 "cells": [
  {
   "cell_type": "markdown",
   "metadata": {},
   "source": [
    "Q28. Write a code to get the desired output of the following\n",
    "\n",
    "string = \"Big Data iNeuron\"\n",
    "desired_output = \"iNeuron\""
   ]
  },
  {
   "cell_type": "code",
   "execution_count": 108,
   "metadata": {},
   "outputs": [
    {
     "name": "stdout",
     "output_type": "stream",
     "text": [
      "iNeuron\n"
     ]
    }
   ],
   "source": [
    "str1=\"Big Data iNeuron\"\n",
    "out=str1.split()\n",
    "print(out[2])"
   ]
  },
  {
   "cell_type": "markdown",
   "metadata": {},
   "source": [
    "Q29. Write a code to get the desired output of the following\n",
    "\n",
    "string = \"Big Data iNeuron\"\n",
    "desired_output = \"norueNi\"\n",
    "\n"
   ]
  },
  {
   "cell_type": "code",
   "execution_count": 109,
   "metadata": {},
   "outputs": [
    {
     "name": "stdout",
     "output_type": "stream",
     "text": [
      "norueNi\n"
     ]
    }
   ],
   "source": [
    "str1=\"Big Data iNeuron\"\n",
    "split_in=str1.split()\n",
    "out=split_in[2]\n",
    "out=out[::-1]\n",
    "print(out)"
   ]
  },
  {
   "cell_type": "markdown",
   "metadata": {},
   "source": [
    "Q33. How can you print the below string?\n",
    "\n",
    "'iNeuron's Big Data Course'"
   ]
  },
  {
   "cell_type": "code",
   "execution_count": 110,
   "metadata": {},
   "outputs": [
    {
     "name": "stdout",
     "output_type": "stream",
     "text": [
      "'iNeuron's Big Data Course'\n"
     ]
    }
   ],
   "source": [
    "print(\"'iNeuron's Big Data Course'\")"
   ]
  },
  {
   "cell_type": "markdown",
   "metadata": {},
   "source": [
    "Q37. Write a code to access the word \"iNeuron\" from the given list.\n",
    "lst = [1,2,3,\"Hi\",[45,54, \"iNeuron\"], \"Big Data\"]"
   ]
  },
  {
   "cell_type": "code",
   "execution_count": 111,
   "metadata": {},
   "outputs": [
    {
     "name": "stdout",
     "output_type": "stream",
     "text": [
      "iNeuron\n"
     ]
    }
   ],
   "source": [
    "lst = [1,2,3,\"Hi\",[45,54, \"iNeuron\"], \"Big Data\"]\n",
    "print(lst[4][2])"
   ]
  },
  {
   "cell_type": "markdown",
   "metadata": {},
   "source": [
    "Q38. Take a list as an input from the user and find the length of the list."
   ]
  },
  {
   "cell_type": "code",
   "execution_count": 112,
   "metadata": {},
   "outputs": [
    {
     "name": "stdout",
     "output_type": "stream",
     "text": [
      "5\n"
     ]
    }
   ],
   "source": [
    "a=input()\n",
    "print(len(a))"
   ]
  },
  {
   "cell_type": "markdown",
   "metadata": {},
   "source": [
    "Q39. Add the word \"Big\" in the 3rd index of the given list.\n",
    "lst = [\"Welcome\", \"to\", \"Data\", \"course\"]"
   ]
  },
  {
   "cell_type": "code",
   "execution_count": 113,
   "metadata": {},
   "outputs": [
    {
     "name": "stdout",
     "output_type": "stream",
     "text": [
      "['Welcome', 'to', 'Big', 'Data', 'course']\n"
     ]
    }
   ],
   "source": [
    "lst = [\"Welcome\", \"to\", \"Data\", \"course\"]\n",
    "lst.insert(2,\"Big\")\n",
    "print(lst)"
   ]
  },
  {
   "cell_type": "markdown",
   "metadata": {},
   "source": [
    "Q43. Can two tuple be appended. If yes, write a code for it. If not, why?"
   ]
  },
  {
   "cell_type": "code",
   "execution_count": 114,
   "metadata": {},
   "outputs": [
    {
     "name": "stdout",
     "output_type": "stream",
     "text": [
      "('a', 'b', 'c', 1, 2, 3)\n"
     ]
    }
   ],
   "source": [
    "a=('a','b','c')\n",
    "b=(1,2,3)\n",
    "print(a+b)"
   ]
  },
  {
   "cell_type": "markdown",
   "metadata": {},
   "source": [
    "Q44. Take a tuple as an input and print the count of elements in it."
   ]
  },
  {
   "cell_type": "code",
   "execution_count": 115,
   "metadata": {},
   "outputs": [
    {
     "data": {
      "text/plain": [
       "6"
      ]
     },
     "execution_count": 115,
     "metadata": {},
     "output_type": "execute_result"
    }
   ],
   "source": [
    "a=tuple(input().split())\n",
    "len(a)"
   ]
  },
  {
   "cell_type": "markdown",
   "metadata": {},
   "source": [
    "Q47. Create a set and add \"iNeuron\" in your set."
   ]
  },
  {
   "cell_type": "code",
   "execution_count": 116,
   "metadata": {},
   "outputs": [
    {
     "name": "stdout",
     "output_type": "stream",
     "text": [
      "{'Data', 'iNeuron', \"I'm\", 2.0, 'doing', 'Course', 'Big', 'from'}\n"
     ]
    }
   ],
   "source": [
    "a={\"I'm\",\"doing\",\"Big\",\"Data\",2.0,\"Course\",\"from\"}\n",
    "a.add(\"iNeuron\")\n",
    "print(a)"
   ]
  },
  {
   "cell_type": "markdown",
   "metadata": {},
   "source": [
    "Q48. Try to add multiple values using add() function."
   ]
  },
  {
   "cell_type": "code",
   "execution_count": 117,
   "metadata": {},
   "outputs": [
    {
     "name": "stdout",
     "output_type": "stream",
     "text": [
      "{'iNeuron', \"I'm\", 2.0, 'Data', 'doing', 'Course', 'Big', 'from'}\n"
     ]
    }
   ],
   "source": [
    "a={\"I'm\"}\n",
    "a.add(\"doing\")\n",
    "b=[\"doing\",\"Big\",\"Data\",2.0,\"Course\",\"from\",\"iNeuron\"]\n",
    "for i in b:\n",
    "    a.add(i)\n",
    "print(a)\n",
    "#Note_I_put one duplicate value_ but it was removed in output. Sets only have distinct values."
   ]
  },
  {
   "cell_type": "code",
   "execution_count": 118,
   "metadata": {},
   "outputs": [
    {
     "name": "stdout",
     "output_type": "stream",
     "text": [
      "{'iNeuron', \"I'm\", 2.0, 'Data', 'doing', 'Course', 'Big', 'from'}\n"
     ]
    }
   ],
   "source": [
    "a={\"I'm\"}\n",
    "b={\"doing\",\"Big\",\"Data\",2.0,\"Course\",\"from\",\"iNeuron\"}\n",
    "a.update(b)\n",
    "print(a)"
   ]
  },
  {
   "cell_type": "markdown",
   "metadata": {},
   "source": [
    "Q53. What is union() in sets? Explain via code."
   ]
  },
  {
   "cell_type": "code",
   "execution_count": 119,
   "metadata": {},
   "outputs": [
    {
     "name": "stdout",
     "output_type": "stream",
     "text": [
      "A U B = {'d', 2, 'c', 'a'}\n",
      "B U C = {'d', 1, 2, 3, 'c'}\n",
      "A U B U C = {'d', 1, 2, 3, 'c', 'a'}\n"
     ]
    }
   ],
   "source": [
    "A = {'a', 'c', 'd'}\n",
    "B = {'c', 'd', 2 }\n",
    "C = {1, 2, 3}\n",
    "\n",
    "print('A U B =', A.union(B))\n",
    "print('B U C =', B.union(C))\n",
    "print('A U B U C =', A.union(B, C))"
   ]
  },
  {
   "cell_type": "markdown",
   "metadata": {},
   "source": [
    "Q54. What is intersection() in sets? Explain via code"
   ]
  },
  {
   "cell_type": "code",
   "execution_count": 120,
   "metadata": {},
   "outputs": [
    {
     "name": "stdout",
     "output_type": "stream",
     "text": [
      "{2, 5}\n",
      "{2}\n",
      "{2, 3}\n",
      "{2}\n"
     ]
    }
   ],
   "source": [
    "A = {2, 3, 5, 4}\n",
    "B = {2, 5, 100}\n",
    "C = {2, 3, 8, 9, 10}\n",
    "\n",
    "print(B.intersection(A))\n",
    "print(B.intersection(C))\n",
    "print(A.intersection(C))\n",
    "print(C.intersection(A, B))"
   ]
  },
  {
   "cell_type": "markdown",
   "metadata": {},
   "source": [
    "Q58. What will the output of the following?\n",
    "var = {}\n",
    "print(type(var))"
   ]
  },
  {
   "cell_type": "code",
   "execution_count": 121,
   "metadata": {},
   "outputs": [
    {
     "name": "stdout",
     "output_type": "stream",
     "text": [
      "<class 'dict'>\n"
     ]
    }
   ],
   "source": [
    "var = {}\n",
    "print(type(var))"
   ]
  },
  {
   "cell_type": "markdown",
   "metadata": {},
   "source": [
    "Q59. How can we add an element in a dictionary?"
   ]
  },
  {
   "cell_type": "code",
   "execution_count": 122,
   "metadata": {},
   "outputs": [
    {
     "name": "stdout",
     "output_type": "stream",
     "text": [
      "{'a': '1', 'b': '2', 'c': '3', 'd': '4'}\n",
      "{'a': '1', 'b': '2', 'c': '3', 'd': '4'}\n"
     ]
    }
   ],
   "source": [
    "dic= {\n",
    "  \"a\": \"1\",\n",
    "  \"b\": \"2\",\n",
    "  \"c\": \"3\"\n",
    "}\n",
    "dic[\"d\"] = \"4\"\n",
    "print(dic)\n",
    "\n",
    "dic= {\n",
    "  \"a\": \"1\",\n",
    "  \"b\": \"2\",\n",
    "  \"c\": \"3\"\n",
    "}\n",
    "dic.update({\"d\":\"4\"})\n",
    "print(dic)"
   ]
  },
  {
   "cell_type": "code",
   "execution_count": 123,
   "metadata": {},
   "outputs": [
    {
     "name": "stdout",
     "output_type": "stream",
     "text": [
      "3\n",
      "dict_keys(['a', 'b', 'c', 'd'])\n",
      "dict_values(['1', '2', '3', '4'])\n",
      "dict_items([('a', '1'), ('b', '2'), ('c', '3'), ('d', '4')])\n"
     ]
    }
   ],
   "source": [
    "dic={'a': '1', 'b': '2', 'c': '3', 'd': '4'}\n",
    "x=dic.get(\"c\")\n",
    "print(x)\n",
    "x=dic.keys()\n",
    "print(x)\n",
    "x=dic.values()\n",
    "print(x)\n",
    "x=dic.items()\n",
    "print(x)"
   ]
  },
  {
   "cell_type": "markdown",
   "metadata": {},
   "source": [
    "Q61. Create a nested dictionary and access all the element in the inner dictionary.\n"
   ]
  },
  {
   "cell_type": "code",
   "execution_count": 124,
   "metadata": {},
   "outputs": [
    {
     "name": "stdout",
     "output_type": "stream",
     "text": [
      "dict_values([{'a': '1'}, {'b': '2'}, {'c': '3'}, {'d': '4'}])\n",
      "{'a': '1'}\n"
     ]
    },
    {
     "data": {
      "text/plain": [
       "('D', {'d': '4'})"
      ]
     },
     "execution_count": 124,
     "metadata": {},
     "output_type": "execute_result"
    }
   ],
   "source": [
    "dic={'A':{'a': '1'},'B':{'b': '2'},'C':{'c': '3'},'D':{'d': '4'}}\n",
    "x=dic.values()\n",
    "print(x)\n",
    "x=dic.get('A')\n",
    "print(x)\n",
    "dic.pop(\"A\")\n",
    "dic.popitem()"
   ]
  },
  {
   "cell_type": "markdown",
   "metadata": {},
   "source": [
    "Q75. How can you loop over a dictionary?"
   ]
  },
  {
   "cell_type": "code",
   "execution_count": 125,
   "metadata": {},
   "outputs": [
    {
     "name": "stdout",
     "output_type": "stream",
     "text": [
      "B\n",
      "C\n",
      "B\n",
      "C\n",
      "{'b': '2'}\n",
      "{'c': '3'}\n",
      "('B', {'b': '2'})\n",
      "('C', {'c': '3'})\n",
      "B {'b': '2'}\n",
      "C {'c': '3'}\n"
     ]
    }
   ],
   "source": [
    "for i in dic:\n",
    "    print(i)\n",
    "\n",
    "for i in dic.keys():\n",
    "    print(i)\n",
    "\n",
    "for i in dic.values():\n",
    "    print(i)\n",
    "\n",
    "for i in dic.items():\n",
    "    print(i)\n",
    "\n",
    "for i in dic:\n",
    "    print(i,dic[i])"
   ]
  },
  {
   "cell_type": "markdown",
   "metadata": {},
   "source": [
    "Q76. Write a Python program to find the factorial of a given number."
   ]
  },
  {
   "cell_type": "code",
   "execution_count": 126,
   "metadata": {},
   "outputs": [
    {
     "name": "stdout",
     "output_type": "stream",
     "text": [
      "362880\n"
     ]
    }
   ],
   "source": [
    "a=int(input())\n",
    "b=1\n",
    "for i in range(a):\n",
    "    b*=i+1\n",
    "print(b)"
   ]
  },
  {
   "cell_type": "markdown",
   "metadata": {},
   "source": [
    "Q77. Write a Python program to calculate the simple interest. Formula to calculate simple interest is SI = (PRT)/100"
   ]
  },
  {
   "cell_type": "code",
   "execution_count": 127,
   "metadata": {},
   "outputs": [
    {
     "name": "stdout",
     "output_type": "stream",
     "text": [
      "5000.0\n"
     ]
    }
   ],
   "source": [
    "p=10000\n",
    "r=5 #rate of interest\n",
    "t=10 #time in years\n",
    "print(p*r*t/100)\n"
   ]
  },
  {
   "cell_type": "markdown",
   "metadata": {},
   "source": [
    "Q78. Write a Python program to calculate the compound interest. Formula of compound interest is A = P(1+ R/100)^t."
   ]
  },
  {
   "cell_type": "code",
   "execution_count": 128,
   "metadata": {},
   "outputs": [
    {
     "name": "stdout",
     "output_type": "stream",
     "text": [
      "16288.94626777442\n"
     ]
    }
   ],
   "source": [
    "p=10000\n",
    "r=5 #rate of interest\n",
    "t=10 #time in years\n",
    "print(p*(1+r/100)**t)"
   ]
  },
  {
   "cell_type": "markdown",
   "metadata": {},
   "source": [
    "Q79. Write a Python program to check if a number is prime or not."
   ]
  },
  {
   "cell_type": "code",
   "execution_count": 129,
   "metadata": {},
   "outputs": [
    {
     "name": "stdout",
     "output_type": "stream",
     "text": [
      "Prime\n"
     ]
    }
   ],
   "source": [
    "a=int(input())\n",
    "c=True\n",
    "for i in range(a):\n",
    "    if (i+1)**2>=a:\n",
    "        b=i+1\n",
    "        break\n",
    "for i in range(b):\n",
    "    if i==0:\n",
    "        continue\n",
    "    if a%(i+1)==0:\n",
    "        c=False\n",
    "if c is False:\n",
    "    print(\"Not Prime\")\n",
    "else:\n",
    "    print(\"Prime\")"
   ]
  },
  {
   "cell_type": "markdown",
   "metadata": {},
   "source": [
    "Q80. Write a Python program to check Armstrong Number."
   ]
  },
  {
   "cell_type": "code",
   "execution_count": 130,
   "metadata": {},
   "outputs": [
    {
     "name": "stdout",
     "output_type": "stream",
     "text": [
      "Armstrong number\n"
     ]
    }
   ],
   "source": [
    "a=input()\n",
    "b=len(a)\n",
    "d=0\n",
    "for i in a:\n",
    "    c=int(i)\n",
    "    d+=c**b\n",
    "if int(a)==d:\n",
    "    print(\"Armstrong number\")\n",
    "else:\n",
    "    print(\"Not an armstrong number\")"
   ]
  },
  {
   "cell_type": "markdown",
   "metadata": {},
   "source": [
    "Q81. Write a Python program to find the n-th Fibonacci Number."
   ]
  },
  {
   "cell_type": "code",
   "execution_count": 131,
   "metadata": {},
   "outputs": [
    {
     "name": "stdout",
     "output_type": "stream",
     "text": [
      "3\n"
     ]
    }
   ],
   "source": [
    "n=int(input())\n",
    "a=0\n",
    "b=1\n",
    "for i in range(n):\n",
    "    if i ==0:\n",
    "        continue\n",
    "    c=b+a\n",
    "    b=a\n",
    "    a=c\n",
    "print(c)"
   ]
  },
  {
   "cell_type": "markdown",
   "metadata": {},
   "source": [
    "Q82. Write a Python program to interchange the first and last element in a list."
   ]
  },
  {
   "cell_type": "code",
   "execution_count": 132,
   "metadata": {},
   "outputs": [
    {
     "name": "stdout",
     "output_type": "stream",
     "text": [
      "[5, 2, 3, 4, 1]\n"
     ]
    }
   ],
   "source": [
    "lst=[1,2,3,4,5]\n",
    "a=lst[0]\n",
    "lst[0]=lst[-1]\n",
    "lst[-1]=a\n",
    "print(lst)"
   ]
  },
  {
   "cell_type": "markdown",
   "metadata": {},
   "source": [
    "Q83. Write a Python program to swap two elements in a list."
   ]
  },
  {
   "cell_type": "code",
   "execution_count": 133,
   "metadata": {},
   "outputs": [
    {
     "name": "stdout",
     "output_type": "stream",
     "text": [
      "[1, 3, 2, 4, 5]\n"
     ]
    }
   ],
   "source": [
    "lst=[1,2,3,4,5]\n",
    "b,c=input(\"Enter index of elements to swap:\").split()\n",
    "b=int(b)\n",
    "c=int(c)\n",
    "a=lst[b]\n",
    "lst[b]=lst[c]\n",
    "lst[c]=a\n",
    "print(lst)"
   ]
  },
  {
   "cell_type": "markdown",
   "metadata": {},
   "source": [
    "Q84. Write a Python program to find N largest element from a list."
   ]
  },
  {
   "cell_type": "code",
   "execution_count": 134,
   "metadata": {},
   "outputs": [
    {
     "name": "stdout",
     "output_type": "stream",
     "text": [
      "231\n",
      "190\n"
     ]
    }
   ],
   "source": [
    "lst=[180, 231, 12, 33, 4, 1, 63, 70, 55, 120, 190, 121, 52, 43, 60, 81, 96, 87, 101, 149]\n",
    "lst.sort(reverse=True)\n",
    "a=int(input())\n",
    "for i in range(a):\n",
    "    print(lst[i])"
   ]
  },
  {
   "cell_type": "markdown",
   "metadata": {},
   "source": [
    "Q85. Write a Python program to find cumulative sum of a list."
   ]
  },
  {
   "cell_type": "code",
   "execution_count": 135,
   "metadata": {},
   "outputs": [
    {
     "name": "stdout",
     "output_type": "stream",
     "text": [
      "1749\n"
     ]
    }
   ],
   "source": [
    "lst=[180, 231, 12, 33, 4, 1, 63, 70, 55, 120, 190, 121, 52, 43, 60, 81, 96, 87, 101, 149]\n",
    "a=0\n",
    "for i in lst:\n",
    "    a+=i\n",
    "print(a)"
   ]
  },
  {
   "cell_type": "markdown",
   "metadata": {},
   "source": [
    "Q86. Write a Python program to check if a string is palindrome or not."
   ]
  },
  {
   "cell_type": "code",
   "execution_count": 136,
   "metadata": {},
   "outputs": [
    {
     "name": "stdout",
     "output_type": "stream",
     "text": [
      "Not palindrome\n"
     ]
    }
   ],
   "source": [
    "in_str=input()\n",
    "rev_str=in_str[::-1]\n",
    "if rev_str == in_str:\n",
    "    print(\"Palindrome\")\n",
    "else:\n",
    "    print(\"Not palindrome\")"
   ]
  },
  {
   "cell_type": "markdown",
   "metadata": {},
   "source": [
    "Q87. Write a Python program to remove i'th element from a string."
   ]
  },
  {
   "cell_type": "code",
   "execution_count": 137,
   "metadata": {},
   "outputs": [
    {
     "name": "stdout",
     "output_type": "stream",
     "text": [
      "VenkatPrasadK\n"
     ]
    }
   ],
   "source": [
    "# in_str=input()\n",
    "in_str=\"VenkataPrasadK\"\n",
    "# i=int(input())\n",
    "i=7\n",
    "out_str=in_str[:i-1]+in_str[i:]\n",
    "print(out_str)\n"
   ]
  },
  {
   "cell_type": "markdown",
   "metadata": {},
   "source": [
    "Q88. Write a Python program to check if a substring is present in a given string."
   ]
  },
  {
   "cell_type": "code",
   "execution_count": 138,
   "metadata": {},
   "outputs": [
    {
     "name": "stdout",
     "output_type": "stream",
     "text": [
      "Substring\n",
      "Substring\n"
     ]
    }
   ],
   "source": [
    "#method1\n",
    "in_str=\"VenkataPrasadK\"\n",
    "if \"Prasad\" in in_str:\n",
    "    print(\"Substring\")\n",
    "else:\n",
    "    print(\"Not a subsstring\")\n",
    "#mothod 2\n",
    "if in_str.find(\"Prasad\") >=0:\n",
    "    print(\"Substring\")\n",
    "else:\n",
    "    print(\"Not a substring\")"
   ]
  },
  {
   "cell_type": "markdown",
   "metadata": {},
   "source": [
    "Q89. Write a Python program to find words which are greater than given length k."
   ]
  },
  {
   "cell_type": "code",
   "execution_count": 139,
   "metadata": {},
   "outputs": [
    {
     "name": "stdout",
     "output_type": "stream",
     "text": [
      "taPrasadK\n"
     ]
    }
   ],
   "source": [
    "in_str=\"VenkataPrasadK\"\n",
    "k=5\n",
    "print(in_str[k:])\n",
    "    "
   ]
  },
  {
   "cell_type": "markdown",
   "metadata": {},
   "source": [
    "Q90. Write a Python program to extract unquie dictionary values."
   ]
  },
  {
   "cell_type": "code",
   "execution_count": 140,
   "metadata": {},
   "outputs": [
    {
     "name": "stdout",
     "output_type": "stream",
     "text": [
      "{25, 18, 22, 23}\n"
     ]
    }
   ],
   "source": [
    "dic={'Tim': 18,'Charlie':23,'Tiffany':22,'Robert':25,'Venkat':25,'Manohar':22,'Akhill':23}\n",
    "print(set(dic.values()))"
   ]
  },
  {
   "cell_type": "markdown",
   "metadata": {},
   "source": [
    "Q91. Write a Python program to merge two dictionary."
   ]
  },
  {
   "cell_type": "code",
   "execution_count": 141,
   "metadata": {},
   "outputs": [
    {
     "name": "stdout",
     "output_type": "stream",
     "text": [
      "{'Tim': 18, 'Charlie': 23, 'Tiffany': 22, 'Robert': 25, 'Venkat': 25, 'Manohar': 22, 'Akhill': 23}\n"
     ]
    }
   ],
   "source": [
    "dic={'Tim': 18,'Charlie':23,'Tiffany':22,'Robert':25}\n",
    "dic1={'Robert':25,'Venkat':25,'Manohar':22,'Akhill':23}\n",
    "dic.update(dic1)\n",
    "print(dic)"
   ]
  },
  {
   "cell_type": "markdown",
   "metadata": {},
   "source": [
    "Q92. Write a Python program to convert a list of tuples into dictionary.\n",
    "\n",
    "Input : [('Sachin', 10), ('MSD', 7), ('Kohli', 18), ('Rohit', 45)]\n",
    "Output : {'Sachin': 10, 'MSD': 7, 'Kohli': 18, 'Rohit': 45}\n"
   ]
  },
  {
   "cell_type": "code",
   "execution_count": 142,
   "metadata": {},
   "outputs": [
    {
     "name": "stdout",
     "output_type": "stream",
     "text": [
      "{'Sachin': 10, 'MSD': 7, 'Kohli': 18, 'Rohit': 45}\n"
     ]
    }
   ],
   "source": [
    "in_lst=[('Sachin',10), ('MSD', 7), ('Kohli', 18), ('Rohit', 45)]\n",
    "dic={}\n",
    "for i,j in in_lst:\n",
    "    dic[i]=j\n",
    "print(dic)"
   ]
  },
  {
   "cell_type": "markdown",
   "metadata": {},
   "source": [
    "Q93. Write a Python program to create a list of tuples from given list having number and its cube in each tuple.\n",
    "\n",
    "Input: list = [9, 5, 6]\n",
    "Output: [(9, 729), (5, 125), (6, 216)]"
   ]
  },
  {
   "cell_type": "code",
   "execution_count": 143,
   "metadata": {},
   "outputs": [
    {
     "name": "stdout",
     "output_type": "stream",
     "text": [
      "[[9, 729], [5, 125], [6, 216]]\n"
     ]
    }
   ],
   "source": [
    "in_lst=[9, 5, 6]\n",
    "out_lst=[]\n",
    "for i in in_lst:\n",
    "    out_lst.append([i,i**3])\n",
    "print(out_lst)"
   ]
  },
  {
   "cell_type": "markdown",
   "metadata": {},
   "source": [
    "Q94. Write a Python program to get all combinations of 2 tuples.\n",
    "\n",
    "Input : test_tuple1 = (7, 2), test_tuple2 = (7, 8)\n",
    "Output : [(7, 7), (7, 8), (2, 7), (2, 8), (7, 7), (7, 2), (8, 7), (8, 2)]"
   ]
  },
  {
   "cell_type": "code",
   "execution_count": 144,
   "metadata": {},
   "outputs": [
    {
     "name": "stdout",
     "output_type": "stream",
     "text": [
      "[(7, 7), (7, 8), (2, 7), (2, 8), (7, 7), (7, 2), (8, 7), (8, 2)]\n"
     ]
    }
   ],
   "source": [
    "test_tuple1 = (7, 2)\n",
    "test_tuple2 = (7, 8)\n",
    "out_lst=[]\n",
    "for i in test_tuple1:\n",
    "    for j in test_tuple2:\n",
    "        a=(i,j)\n",
    "        out_lst.append(a)\n",
    "for i in test_tuple2:\n",
    "    for j in test_tuple1:\n",
    "        a=(i,j)\n",
    "        out_lst.append(a)  \n",
    "print(out_lst)"
   ]
  },
  {
   "cell_type": "markdown",
   "metadata": {},
   "source": [
    "Q95. Write a Python program to sort a list of tuples by second item.\n",
    "\n",
    "Input : [('for', 24), ('Geeks', 8), ('Geeks', 30)] \n",
    "Output : [('Geeks', 8), ('for', 24), ('Geeks', 30)]"
   ]
  },
  {
   "cell_type": "code",
   "execution_count": 145,
   "metadata": {},
   "outputs": [
    {
     "name": "stdout",
     "output_type": "stream",
     "text": [
      "[('Geeks', 8), ('for', 24), ('Geeks', 30)]\n"
     ]
    }
   ],
   "source": [
    "in_lst=[('for', 24), ('Geeks', 8), ('Geeks', 30)]\n",
    "in_lst.sort(key=lambda x:x[1]) \n",
    "print(in_lst)"
   ]
  },
  {
   "cell_type": "markdown",
   "metadata": {},
   "source": [
    "Q96. Write a python program to print below pattern.\n",
    "\n",
    "* \n",
    "* * \n",
    "* * * \n",
    "* * * * \n",
    "* * * * * \n"
   ]
  },
  {
   "cell_type": "code",
   "execution_count": 146,
   "metadata": {},
   "outputs": [
    {
     "name": "stdout",
     "output_type": "stream",
     "text": [
      "* \n",
      "* * \n",
      "* * * \n",
      "* * * * \n",
      "* * * * * \n"
     ]
    }
   ],
   "source": [
    "for i in range(5):\n",
    "    print((i+1)*\"* \")"
   ]
  },
  {
   "cell_type": "markdown",
   "metadata": {},
   "source": [
    "Q97. Write a python program to print below pattern.\n",
    "\n",
    "    *\n",
    "   **\n",
    "  ***\n",
    " ****\n",
    "*****\n"
   ]
  },
  {
   "cell_type": "code",
   "execution_count": 147,
   "metadata": {},
   "outputs": [
    {
     "name": "stdout",
     "output_type": "stream",
     "text": [
      "     *\n",
      "    **\n",
      "   ***\n",
      "  ****\n",
      " *****\n"
     ]
    }
   ],
   "source": [
    "for i in range(5):\n",
    "    print((5-i)*\" \"+(i+1)*\"*\")"
   ]
  },
  {
   "cell_type": "markdown",
   "metadata": {},
   "source": [
    "Q98. Write a python program to print below pattern.\n",
    "\n",
    "    * \n",
    "   * * \n",
    "  * * * \n",
    " * * * * \n",
    "* * * * * "
   ]
  },
  {
   "cell_type": "code",
   "execution_count": 148,
   "metadata": {},
   "outputs": [
    {
     "name": "stdout",
     "output_type": "stream",
     "text": [
      "     * \n",
      "    * * \n",
      "   * * * \n",
      "  * * * * \n",
      " * * * * * \n"
     ]
    }
   ],
   "source": [
    "n=5\n",
    "for i in range(n):\n",
    "    print((n-i)*\" \"+(i+1)*\"* \")"
   ]
  },
  {
   "cell_type": "markdown",
   "metadata": {},
   "source": [
    "\n",
    "Q99. Write a python program to print below pattern.\n",
    "\n",
    "1 \n",
    "1 2 \n",
    "1 2 3 \n",
    "1 2 3 4 \n",
    "1 2 3 4 5\n"
   ]
  },
  {
   "cell_type": "code",
   "execution_count": 1,
   "metadata": {},
   "outputs": [
    {
     "name": "stdout",
     "output_type": "stream",
     "text": [
      " 1\n",
      " 1 2\n",
      " 1 2 3\n",
      " 1 2 3 4\n",
      " 1 2 3 4 5\n"
     ]
    }
   ],
   "source": [
    "n=5\n",
    "for i in range(n):\n",
    "    a=\"\"\n",
    "    for j in range(i+1):\n",
    "        b=j+1\n",
    "        b=str(b)\n",
    "        a+=\" \"+b\n",
    "    print(a)"
   ]
  },
  {
   "cell_type": "markdown",
   "metadata": {},
   "source": [
    "Q100. Write a python program to print below pattern.\n",
    "\n",
    "A \n",
    "B B \n",
    "C C C \n",
    "D D D D \n",
    "E E E E E "
   ]
  },
  {
   "cell_type": "code",
   "execution_count": 2,
   "metadata": {},
   "outputs": [
    {
     "name": "stdout",
     "output_type": "stream",
     "text": [
      "A\n",
      "BB\n",
      "CCC\n",
      "DDDD\n",
      "EEEEE\n"
     ]
    }
   ],
   "source": [
    "lst=['A','B','C','D','E']\n",
    "a=0\n",
    "for i in lst:\n",
    "    a+=1\n",
    "    print((a)*i)"
   ]
  },
  {
   "cell_type": "code",
   "execution_count": 2,
   "metadata": {},
   "outputs": [],
   "source": [
    "in_str=\"Venkat\"\n",
    "del(in_str)\n"
   ]
  }
 ],
 "metadata": {
  "kernelspec": {
   "display_name": "Python 3.9.10 64-bit",
   "language": "python",
   "name": "python3"
  },
  "language_info": {
   "codemirror_mode": {
    "name": "ipython",
    "version": 3
   },
   "file_extension": ".py",
   "mimetype": "text/x-python",
   "name": "python",
   "nbconvert_exporter": "python",
   "pygments_lexer": "ipython3",
   "version": "3.9.10"
  },
  "orig_nbformat": 4,
  "vscode": {
   "interpreter": {
    "hash": "11938c6bc6919ae2720b4d5011047913343b08a43b18698fd82dedb0d4417594"
   }
  }
 },
 "nbformat": 4,
 "nbformat_minor": 2
}
